{
 "cells": [
  {
   "cell_type": "code",
   "execution_count": 1,
   "id": "rental-jordan",
   "metadata": {},
   "outputs": [
    {
     "name": "stdout",
     "output_type": "stream",
     "text": [
      "10\n"
     ]
    },
    {
     "data": {
      "text/plain": [
       "4"
      ]
     },
     "execution_count": 1,
     "metadata": {},
     "output_type": "execute_result"
    }
   ],
   "source": [
    "a = 4\n",
    "print(a + 6)\n",
    "b = [4,5,6,7,8,9,10]\n",
    "b[0]"
   ]
  },
  {
   "cell_type": "markdown",
   "id": "romance-microphone",
   "metadata": {},
   "source": [
    "## Heading\n",
    "Jupyter is fun\n",
    "\n",
    "*italics*"
   ]
  },
  {
   "cell_type": "code",
   "execution_count": null,
   "id": "precious-wrapping",
   "metadata": {},
   "outputs": [],
   "source": []
  }
 ],
 "metadata": {
  "kernelspec": {
   "display_name": "Python 3",
   "language": "python",
   "name": "python3"
  },
  "language_info": {
   "codemirror_mode": {
    "name": "ipython",
    "version": 3
   },
   "file_extension": ".py",
   "mimetype": "text/x-python",
   "name": "python",
   "nbconvert_exporter": "python",
   "pygments_lexer": "ipython3",
   "version": "3.9.1"
  }
 },
 "nbformat": 4,
 "nbformat_minor": 5
}
